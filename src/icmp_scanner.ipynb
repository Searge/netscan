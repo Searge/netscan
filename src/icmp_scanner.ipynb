{
 "cells": [
  {
   "cell_type": "code",
   "execution_count": 1,
   "id": "9d2d5f8a",
   "metadata": {},
   "outputs": [],
   "source": [
    "\"\"\"ARP Scanner.\"\"\"\n",
    "import click\n",
    "import asyncio\n",
    "from scapy import all as sc\n",
    "from scapy import config as conf\n",
    "\n",
    "conf.verb = 0"
   ]
  },
  {
   "cell_type": "code",
   "execution_count": null,
   "id": "803fc307",
   "metadata": {},
   "outputs": [],
   "source": []
  }
 ],
 "metadata": {
  "kernelspec": {
   "display_name": "Python 3 (ipykernel)",
   "language": "python",
   "name": "python3"
  },
  "language_info": {
   "codemirror_mode": {
    "name": "ipython",
    "version": 3
   },
   "file_extension": ".py",
   "mimetype": "text/x-python",
   "name": "python",
   "nbconvert_exporter": "python",
   "pygments_lexer": "ipython3",
   "version": "3.9.6"
  }
 },
 "nbformat": 4,
 "nbformat_minor": 5
}
